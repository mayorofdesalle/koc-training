{
 "cells": [
  {
   "cell_type": "code",
   "execution_count": 1,
   "metadata": {},
   "outputs": [
    {
     "data": {
      "text/html": [
       "<div>\n",
       "<style scoped>\n",
       "    .dataframe tbody tr th:only-of-type {\n",
       "        vertical-align: middle;\n",
       "    }\n",
       "\n",
       "    .dataframe tbody tr th {\n",
       "        vertical-align: top;\n",
       "    }\n",
       "\n",
       "    .dataframe thead th {\n",
       "        text-align: right;\n",
       "    }\n",
       "</style>\n",
       "<table border=\"1\" class=\"dataframe\">\n",
       "  <thead>\n",
       "    <tr style=\"text-align: right;\">\n",
       "      <th></th>\n",
       "      <th>text</th>\n",
       "      <th>label</th>\n",
       "    </tr>\n",
       "  </thead>\n",
       "  <tbody>\n",
       "    <tr>\n",
       "      <th>0</th>\n",
       "      <td>reader mail sc ruling alimony supreme court ex...</td>\n",
       "      <td>0</td>\n",
       "    </tr>\n",
       "    <tr>\n",
       "      <th>1</th>\n",
       "      <td>niqaab elephant courtroom say uk judge person ...</td>\n",
       "      <td>0</td>\n",
       "    </tr>\n",
       "    <tr>\n",
       "      <th>2</th>\n",
       "      <td>grandparent honoured staff student global publ...</td>\n",
       "      <td>0</td>\n",
       "    </tr>\n",
       "    <tr>\n",
       "      <th>3</th>\n",
       "      <td>guardian quick crossword convinced know pay news</td>\n",
       "      <td>0</td>\n",
       "    </tr>\n",
       "    <tr>\n",
       "      <th>4</th>\n",
       "      <td>fisherman strike country boat fisherman pamban...</td>\n",
       "      <td>1</td>\n",
       "    </tr>\n",
       "  </tbody>\n",
       "</table>\n",
       "</div>"
      ],
      "text/plain": [
       "                                                text  label\n",
       "0  reader mail sc ruling alimony supreme court ex...      0\n",
       "1  niqaab elephant courtroom say uk judge person ...      0\n",
       "2  grandparent honoured staff student global publ...      0\n",
       "3   guardian quick crossword convinced know pay news      0\n",
       "4  fisherman strike country boat fisherman pamban...      1"
      ]
     },
     "execution_count": 1,
     "metadata": {},
     "output_type": "execute_result"
    }
   ],
   "source": [
    "import pandas as pd\n",
    "train = pd.read_feather('Feathers/processed_train_data.feather')\n",
    "train.head()"
   ]
  },
  {
   "cell_type": "code",
   "execution_count": 2,
   "metadata": {},
   "outputs": [
    {
     "name": "stdout",
     "output_type": "stream",
     "text": [
      "Fitting 5 folds for each of 288 candidates, totalling 1440 fits\n"
     ]
    },
    {
     "name": "stderr",
     "output_type": "stream",
     "text": [
      "[Parallel(n_jobs=-1)]: Using backend LokyBackend with 8 concurrent workers.\n",
      "[Parallel(n_jobs=-1)]: Done  34 tasks      | elapsed:    3.3s\n",
      "[Parallel(n_jobs=-1)]: Done 184 tasks      | elapsed:   11.7s\n",
      "[Parallel(n_jobs=-1)]: Done 434 tasks      | elapsed:   27.1s\n",
      "[Parallel(n_jobs=-1)]: Done 784 tasks      | elapsed:   47.9s\n",
      "[Parallel(n_jobs=-1)]: Done 1234 tasks      | elapsed:  1.3min\n",
      "[Parallel(n_jobs=-1)]: Done 1440 out of 1440 | elapsed:  1.5min finished\n"
     ]
    },
    {
     "name": "stdout",
     "output_type": "stream",
     "text": [
      "Best score: 0.769\n",
      "Best parameters set:\n",
      "\tclf__max_depth: 15\n",
      "\tclf__max_features: None\n",
      "\ttfidf__ngram_range: (1, 1)\n",
      "\ttfidf__norm: 'l1'\n",
      "\ttfidf__smooth_idf: False\n",
      "\ttfidf__use_idf: False\n"
     ]
    }
   ],
   "source": [
    "from sklearn.feature_extraction.text import TfidfVectorizer\n",
    "from sklearn.tree import DecisionTreeClassifier\n",
    "from sklearn.model_selection import GridSearchCV\n",
    "from imblearn.over_sampling import SMOTE\n",
    "from imblearn.under_sampling import RandomUnderSampler, TomekLinks\n",
    "from imblearn.pipeline import Pipeline\n",
    "\n",
    "pipeline = Pipeline([\n",
    "    ('tfidf', TfidfVectorizer(max_df = 0.75, min_df = 0.01)),\n",
    "    ('rus', RandomUnderSampler(sampling_strategy = 0.5)),\n",
    "    ('smt', SMOTE()),\n",
    "    ('tmk', TomekLinks()),\n",
    "    ('clf', DecisionTreeClassifier(random_state=28)),\n",
    "])\n",
    "\n",
    "parameters = {\n",
    "    'tfidf__ngram_range': ((1, 1), (1, 2), (1, 3)),  # unigrams, bigrams or trigrams\n",
    "    'tfidf__use_idf': (True, False),\n",
    "    'tfidf__smooth_idf': (True, False),\n",
    "    'tfidf__norm': ('l1', 'l2'),\n",
    "    'clf__max_depth': (10, 15, 20, None),\n",
    "    'clf__max_features': ('sqrt', 'log2', None)\n",
    "}\n",
    "\n",
    "grid_search = GridSearchCV(pipeline, parameters, n_jobs=-1, verbose=1, scoring='f1_macro')\n",
    "grid_search.fit(train.text, train.label)\n",
    "\n",
    "print(\"Best score: %0.3f\" % grid_search.best_score_)\n",
    "print(\"Best parameters set:\")\n",
    "best_parameters = grid_search.best_estimator_.get_params()\n",
    "for param_name in sorted(parameters.keys()):\n",
    "        print(\"\\t%s: %r\" % (param_name, best_parameters[param_name]))"
   ]
  },
  {
   "cell_type": "code",
   "execution_count": 3,
   "metadata": {},
   "outputs": [
    {
     "data": {
      "text/html": [
       "<div>\n",
       "<style scoped>\n",
       "    .dataframe tbody tr th:only-of-type {\n",
       "        vertical-align: middle;\n",
       "    }\n",
       "\n",
       "    .dataframe tbody tr th {\n",
       "        vertical-align: top;\n",
       "    }\n",
       "\n",
       "    .dataframe thead th {\n",
       "        text-align: right;\n",
       "    }\n",
       "</style>\n",
       "<table border=\"1\" class=\"dataframe\">\n",
       "  <thead>\n",
       "    <tr style=\"text-align: right;\">\n",
       "      <th></th>\n",
       "      <th>text</th>\n",
       "      <th>label</th>\n",
       "    </tr>\n",
       "  </thead>\n",
       "  <tbody>\n",
       "    <tr>\n",
       "      <th>0</th>\n",
       "      <td>ranipet student top vellore district special c...</td>\n",
       "      <td>0</td>\n",
       "    </tr>\n",
       "    <tr>\n",
       "      <th>1</th>\n",
       "      <td>science camp schoolchildren science camp merit...</td>\n",
       "      <td>0</td>\n",
       "    </tr>\n",
       "    <tr>\n",
       "      <th>2</th>\n",
       "      <td>bahutule retires day th birthday vidarbha skip...</td>\n",
       "      <td>0</td>\n",
       "    </tr>\n",
       "    <tr>\n",
       "      <th>3</th>\n",
       "      <td>heavy rain likely day woman reported missing f...</td>\n",
       "      <td>0</td>\n",
       "    </tr>\n",
       "    <tr>\n",
       "      <th>4</th>\n",
       "      <td>police complaint caste hindu dalit resident pa...</td>\n",
       "      <td>0</td>\n",
       "    </tr>\n",
       "  </tbody>\n",
       "</table>\n",
       "</div>"
      ],
      "text/plain": [
       "                                                text  label\n",
       "0  ranipet student top vellore district special c...      0\n",
       "1  science camp schoolchildren science camp merit...      0\n",
       "2  bahutule retires day th birthday vidarbha skip...      0\n",
       "3  heavy rain likely day woman reported missing f...      0\n",
       "4  police complaint caste hindu dalit resident pa...      0"
      ]
     },
     "execution_count": 3,
     "metadata": {},
     "output_type": "execute_result"
    }
   ],
   "source": [
    "test = pd.read_feather('Feathers/processed_test_data.feather')\n",
    "test.head()"
   ]
  },
  {
   "cell_type": "code",
   "execution_count": 4,
   "metadata": {},
   "outputs": [
    {
     "name": "stdout",
     "output_type": "stream",
     "text": [
      "              precision    recall  f1-score   support\n",
      "\n",
      "           0       1.00      0.96      0.98       456\n",
      "           1       0.89      0.99      0.93       150\n",
      "\n",
      "    accuracy                           0.97       606\n",
      "   macro avg       0.94      0.97      0.96       606\n",
      "weighted avg       0.97      0.97      0.97       606\n",
      "\n"
     ]
    },
    {
     "data": {
      "image/png": "[encoded data removed]",
      "text/plain": [
       "<Figure size 518.4x288 with 2 Axes>"
      ]
     },
     "metadata": {
      "needs_background": "light"
     },
     "output_type": "display_data"
    }
   ],
   "source": [
    "from sklearn.metrics import classification_report, confusion_matrix, f1_score, roc_auc_score\n",
    "import matplotlib.pyplot as plt\n",
    "import seaborn as sns\n",
    "%matplotlib inline\n",
    "\n",
    "y_pred = grid_search.predict(train.text)\n",
    "print(classification_report(train.label, y_pred))\n",
    "\n",
    "conf_matrix = confusion_matrix(train.label, y_pred)\n",
    "plt.figure(figsize=(7.2,4))\n",
    "sns.heatmap(conf_matrix, \n",
    "            annot=True,\n",
    "            fmt='g',\n",
    "            xticklabels=[0, 1], \n",
    "            yticklabels=[0, 1],\n",
    "            cmap=\"Reds\",)\n",
    "plt.ylabel('Actual')\n",
    "plt.xlabel('Predicted')\n",
    "plt.title('f1 micro = %f\\nroc auc = %f' %(f1_score(train.label, y_pred, average='micro'), roc_auc_score(train.label, y_pred)))\n",
    "plt.show()"
   ]
  },
  {
   "cell_type": "code",
   "execution_count": 5,
   "metadata": {},
   "outputs": [
    {
     "name": "stdout",
     "output_type": "stream",
     "text": [
      "              precision    recall  f1-score   support\n",
      "\n",
      "           0       0.92      0.92      0.92       153\n",
      "           1       0.74      0.74      0.74        50\n",
      "\n",
      "    accuracy                           0.87       203\n",
      "   macro avg       0.83      0.83      0.83       203\n",
      "weighted avg       0.87      0.87      0.87       203\n",
      "\n"
     ]
    },
    {
     "data": {
      "image/png": "[encoded data removed]",
      "text/plain": [
       "<Figure size 518.4x288 with 2 Axes>"
      ]
     },
     "metadata": {
      "needs_background": "light"
     },
     "output_type": "display_data"
    }
   ],
   "source": [
    "y_pred = grid_search.predict(test.text)\n",
    "print(classification_report(test.label, y_pred))\n",
    "conf_matrix = confusion_matrix(test.label, y_pred)\n",
    "plt.figure(figsize=(7.2,4))\n",
    "sns.heatmap(conf_matrix, \n",
    "            annot=True,\n",
    "            fmt='g',\n",
    "            xticklabels=[0, 1], \n",
    "            yticklabels=[0, 1],\n",
    "            cmap=\"Reds\",)\n",
    "plt.ylabel('Actual')\n",
    "plt.xlabel('Predicted')\n",
    "plt.title('f1 micro = %f\\nroc auc = %f' %(f1_score(test.label, y_pred, average='micro'), roc_auc_score(test.label, y_pred)))\n",
    "plt.show()"
   ]
  },
  {
   "cell_type": "code",
   "execution_count": 6,
   "metadata": {},
   "outputs": [
    {
     "data": {
      "text/html": [
       "<div>\n",
       "<style scoped>\n",
       "    .dataframe tbody tr th:only-of-type {\n",
       "        vertical-align: middle;\n",
       "    }\n",
       "\n",
       "    .dataframe tbody tr th {\n",
       "        vertical-align: top;\n",
       "    }\n",
       "\n",
       "    .dataframe thead th {\n",
       "        text-align: right;\n",
       "    }\n",
       "</style>\n",
       "<table border=\"1\" class=\"dataframe\">\n",
       "  <thead>\n",
       "    <tr style=\"text-align: right;\">\n",
       "      <th></th>\n",
       "      <th>Model</th>\n",
       "      <th>Training Set F1</th>\n",
       "      <th>Training Set ROC AUC</th>\n",
       "      <th>Test Set F1</th>\n",
       "      <th>Test Set ROC AUC</th>\n",
       "    </tr>\n",
       "  </thead>\n",
       "  <tbody>\n",
       "    <tr>\n",
       "      <th>0</th>\n",
       "      <td>Decision Tree</td>\n",
       "      <td>0.965347</td>\n",
       "      <td>0.9725</td>\n",
       "      <td>0.871921</td>\n",
       "      <td>0.827516</td>\n",
       "    </tr>\n",
       "  </tbody>\n",
       "</table>\n",
       "</div>"
      ],
      "text/plain": [
       "           Model  Training Set F1  Training Set ROC AUC  Test Set F1  \\\n",
       "0  Decision Tree         0.965347                0.9725     0.871921   \n",
       "\n",
       "   Test Set ROC AUC  \n",
       "0          0.827516  "
      ]
     },
     "execution_count": 6,
     "metadata": {},
     "output_type": "execute_result"
    }
   ],
   "source": [
    "d = {\n",
    "    'Model': 'Decision Tree',\n",
    "    'Training Set F1': f1_score(train.label, grid_search.predict(train.text), average='micro'),\n",
    "    'Training Set ROC AUC': roc_auc_score(train.label, grid_search.predict(train.text)),\n",
    "    'Test Set F1': f1_score(test.label, y_pred, average='micro'),\n",
    "    'Test Set ROC AUC': roc_auc_score(test.label, y_pred)\n",
    "}\n",
    "\n",
    "df_models_dt = pd.DataFrame(d, index=[0])\n",
    "df_models_dt"
   ]
  },
  {
   "cell_type": "code",
   "execution_count": 7,
   "metadata": {},
   "outputs": [],
   "source": [
    "df_models_dt.to_feather('Feathers/Models/dt.feather')"
   ]
  }
 ],
 "metadata": {
  "kernelspec": {
   "display_name": "Python 3",
   "language": "python",
   "name": "python3"
  },
  "language_info": {
   "codemirror_mode": {
    "name": "ipython",
    "version": 3
   },
   "file_extension": ".py",
   "mimetype": "text/x-python",
   "name": "python",
   "nbconvert_exporter": "python",
   "pygments_lexer": "ipython3",
   "version": "3.8.2"
  }
 },
 "nbformat": 4,
 "nbformat_minor": 4
}
