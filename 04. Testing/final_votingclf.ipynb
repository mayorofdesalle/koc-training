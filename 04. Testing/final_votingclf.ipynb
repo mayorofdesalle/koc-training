{
 "cells": [
  {
   "cell_type": "code",
   "execution_count": 253,
   "metadata": {},
   "outputs": [
    {
     "data": {
      "text/html": [
       "<div>\n",
       "<style scoped>\n",
       "    .dataframe tbody tr th:only-of-type {\n",
       "        vertical-align: middle;\n",
       "    }\n",
       "\n",
       "    .dataframe tbody tr th {\n",
       "        vertical-align: top;\n",
       "    }\n",
       "\n",
       "    .dataframe thead th {\n",
       "        text-align: right;\n",
       "    }\n",
       "</style>\n",
       "<table border=\"1\" class=\"dataframe\">\n",
       "  <thead>\n",
       "    <tr style=\"text-align: right;\">\n",
       "      <th></th>\n",
       "      <th>text</th>\n",
       "      <th>label</th>\n",
       "    </tr>\n",
       "  </thead>\n",
       "  <tbody>\n",
       "    <tr>\n",
       "      <th>0</th>\n",
       "      <td>reader mail sc ruling alimony supreme court ex...</td>\n",
       "      <td>0</td>\n",
       "    </tr>\n",
       "    <tr>\n",
       "      <th>1</th>\n",
       "      <td>niqaab elephant courtroom say uk judge person ...</td>\n",
       "      <td>0</td>\n",
       "    </tr>\n",
       "    <tr>\n",
       "      <th>2</th>\n",
       "      <td>grandparent honoured staff student global publ...</td>\n",
       "      <td>0</td>\n",
       "    </tr>\n",
       "    <tr>\n",
       "      <th>3</th>\n",
       "      <td>guardian quick crossword convinced know pay news</td>\n",
       "      <td>0</td>\n",
       "    </tr>\n",
       "    <tr>\n",
       "      <th>4</th>\n",
       "      <td>fisherman strike country boat fisherman pamban...</td>\n",
       "      <td>1</td>\n",
       "    </tr>\n",
       "  </tbody>\n",
       "</table>\n",
       "</div>"
      ],
      "text/plain": [
       "                                                text  label\n",
       "0  reader mail sc ruling alimony supreme court ex...      0\n",
       "1  niqaab elephant courtroom say uk judge person ...      0\n",
       "2  grandparent honoured staff student global publ...      0\n",
       "3   guardian quick crossword convinced know pay news      0\n",
       "4  fisherman strike country boat fisherman pamban...      1"
      ]
     },
     "execution_count": 253,
     "metadata": {},
     "output_type": "execute_result"
    }
   ],
   "source": [
    "import pandas as pd\n",
    "train = pd.read_feather('Feathers/processed_train_data.feather')\n",
    "train.head()"
   ]
  },
  {
   "cell_type": "code",
   "execution_count": 254,
   "metadata": {},
   "outputs": [
    {
     "name": "stdout",
     "output_type": "stream",
     "text": [
      "Fitting 5 folds for each of 12 candidates, totalling 60 fits\n"
     ]
    },
    {
     "name": "stderr",
     "output_type": "stream",
     "text": [
      "[Parallel(n_jobs=-1)]: Using backend LokyBackend with 8 concurrent workers.\n",
      "[Parallel(n_jobs=-1)]: Done  34 tasks      | elapsed:   40.5s\n",
      "[Parallel(n_jobs=-1)]: Done  60 out of  60 | elapsed:  1.8min finished\n"
     ]
    },
    {
     "name": "stdout",
     "output_type": "stream",
     "text": [
      "Best score: 0.836\n",
      "Best parameters set:\n",
      "\ttfidf__ngram_range: (1, 1)\n",
      "\ttfidf__smooth_idf: True\n",
      "\ttfidf__use_idf: False\n"
     ]
    }
   ],
   "source": [
    "import xgboost as xgb\n",
    "from sklearn.ensemble import RandomForestClassifier, VotingClassifier\n",
    "from sklearn.svm import LinearSVC\n",
    "from sklearn.feature_extraction.text import TfidfVectorizer\n",
    "from sklearn.model_selection import GridSearchCV\n",
    "from imblearn.over_sampling import SMOTE\n",
    "from imblearn.under_sampling import RandomUnderSampler, TomekLinks\n",
    "from imblearn.pipeline import Pipeline\n",
    "\n",
    "clf1 = LinearSVC(loss='squared_hinge', tol=0.0001, penalty='l2', fit_intercept=True)\n",
    "clf2 = RandomForestClassifier(n_estimators=200, max_features='sqrt')\n",
    "clf3 = xgb.XGBClassifier(scale_pos_weight=3, learning_rate=0.2)\n",
    "\n",
    "pipeline = Pipeline([\n",
    "    ('tfidf', TfidfVectorizer(max_df = 0.75)),\n",
    "    ('tmk', TomekLinks()),\n",
    "    ('rus', RandomUnderSampler(sampling_strategy = 0.5)),\n",
    "    ('smt', SMOTE()),\n",
    "    ('eclf', VotingClassifier(estimators=[('lsv', clf1), ('rf', clf2), ('xgb', clf3)], voting='hard', weights=[1, 1, 2]))\n",
    "])\n",
    "\n",
    "parameters = {\n",
    "    'tfidf__use_idf': (True, False),\n",
    "    'tfidf__smooth_idf': (True, False),\n",
    "    'tfidf__ngram_range': ((1, 1), (1, 2), (1, 3)),\n",
    "}\n",
    "\n",
    "grid_search = GridSearchCV(pipeline, parameters, n_jobs=-1, verbose=1, scoring='f1_macro')\n",
    "grid_search.fit(train.text, train.label)\n",
    "\n",
    "print(\"Best score: %0.3f\" % grid_search.best_score_)\n",
    "print(\"Best parameters set:\")\n",
    "best_parameters = grid_search.best_estimator_.get_params()\n",
    "for param_name in sorted(parameters.keys()):\n",
    "        print(\"\\t%s: %r\" % (param_name, best_parameters[param_name]))"
   ]
  },
  {
   "cell_type": "code",
   "execution_count": 255,
   "metadata": {},
   "outputs": [],
   "source": [
    "def preProcessing(text):\n",
    "    import re\n",
    "    import string\n",
    "    \n",
    "    # convert text to lowercase\n",
    "    out_text = text.lower()\n",
    "    \n",
    "    # remove punctuation, numbers and symbols\n",
    "    out_text = re.sub('[^\\sA-Za-z]+', '', out_text)\n",
    "    \n",
    "    # remove whitespaces\n",
    "    out_text = out_text.strip()\n",
    "    \n",
    "    # remove stopwords\n",
    "    from gensim.parsing.preprocessing import STOPWORDS\n",
    "    stop_words = STOPWORDS.union(set(['mr', 'visakhapatnam', 'rythu', 'p', 'kurmeswara', 'rao']))\n",
    "    from nltk.tokenize import word_tokenize\n",
    "    tokens = word_tokenize(out_text)\n",
    "    out_text = [i for i in tokens if not i in stop_words]\n",
    "    \n",
    "    # lemmatization\n",
    "    from nltk.stem import WordNetLemmatizer\n",
    "    lemmatizer = WordNetLemmatizer()\n",
    "    result = []\n",
    "    for word in out_text:\n",
    "        result.append(lemmatizer.lemmatize(word))\n",
    "        \n",
    "    return result"
   ]
  },
  {
   "cell_type": "code",
   "execution_count": 256,
   "metadata": {},
   "outputs": [
    {
     "data": {
      "text/html": [
       "<div>\n",
       "<style scoped>\n",
       "    .dataframe tbody tr th:only-of-type {\n",
       "        vertical-align: middle;\n",
       "    }\n",
       "\n",
       "    .dataframe tbody tr th {\n",
       "        vertical-align: top;\n",
       "    }\n",
       "\n",
       "    .dataframe thead th {\n",
       "        text-align: right;\n",
       "    }\n",
       "</style>\n",
       "<table border=\"1\" class=\"dataframe\">\n",
       "  <thead>\n",
       "    <tr style=\"text-align: right;\">\n",
       "      <th></th>\n",
       "      <th>id</th>\n",
       "      <th>url</th>\n",
       "      <th>text</th>\n",
       "    </tr>\n",
       "  </thead>\n",
       "  <tbody>\n",
       "    <tr>\n",
       "      <th>0</th>\n",
       "      <td>5db56b78ee1f2000174633c4</td>\n",
       "      <td>SAPAI-4a5e744d87-52835.txt</td>\n",
       "      <td>The US Supreme Court Monday refused to hear an...</td>\n",
       "    </tr>\n",
       "    <tr>\n",
       "      <th>1</th>\n",
       "      <td>5db56b78ee1f2000174633b7</td>\n",
       "      <td>SAP140527S1814.txt</td>\n",
       "      <td>Police are still searching for an East Europea...</td>\n",
       "    </tr>\n",
       "    <tr>\n",
       "      <th>2</th>\n",
       "      <td>5db56b78ee1f2000174633ce</td>\n",
       "      <td>SAPANA_20161024074340000_938491.txt</td>\n",
       "      <td>Two sheep thieves in NWest court Molaole Monts...</td>\n",
       "    </tr>\n",
       "    <tr>\n",
       "      <th>3</th>\n",
       "      <td>5db56b78ee1f2000174633d6</td>\n",
       "      <td>SAPAI-50e69f849f-87964.txt</td>\n",
       "      <td>A teenager and her younger brother were killed...</td>\n",
       "    </tr>\n",
       "    <tr>\n",
       "      <th>4</th>\n",
       "      <td>5db56b78ee1f2000174633df</td>\n",
       "      <td>SAPANA_20180924133013000_7515874.txt</td>\n",
       "      <td>ANCWL in NWest mourns Molewa, Diswai Molaole M...</td>\n",
       "    </tr>\n",
       "  </tbody>\n",
       "</table>\n",
       "</div>"
      ],
      "text/plain": [
       "                         id                                   url  \\\n",
       "0  5db56b78ee1f2000174633c4            SAPAI-4a5e744d87-52835.txt   \n",
       "1  5db56b78ee1f2000174633b7                    SAP140527S1814.txt   \n",
       "2  5db56b78ee1f2000174633ce   SAPANA_20161024074340000_938491.txt   \n",
       "3  5db56b78ee1f2000174633d6            SAPAI-50e69f849f-87964.txt   \n",
       "4  5db56b78ee1f2000174633df  SAPANA_20180924133013000_7515874.txt   \n",
       "\n",
       "                                                text  \n",
       "0  The US Supreme Court Monday refused to hear an...  \n",
       "1  Police are still searching for an East Europea...  \n",
       "2  Two sheep thieves in NWest court Molaole Monts...  \n",
       "3  A teenager and her younger brother were killed...  \n",
       "4  ANCWL in NWest mourns Molewa, Diswai Molaole M...  "
      ]
     },
     "execution_count": 256,
     "metadata": {},
     "output_type": "execute_result"
    }
   ],
   "source": [
    "import pandas as pd\n",
    "test = pd.read_json ('Sabinet_R_no_labels.json', lines=True)\n",
    "test.head()"
   ]
  },
  {
   "cell_type": "code",
   "execution_count": 257,
   "metadata": {},
   "outputs": [
    {
     "data": {
      "text/plain": [
       "'supreme court monday refused hear appeal horse abattoir forced closure despite claim american horse meat greatly valued europe year horse abattoir united state texas illinois closed state pressure animal right group passed law banning killing horse human consumption illinois slaughterhouse run cavel international affiliate belgian company employed people killed horse year annual revenue million dollar cavel fought ban arguing meat exported europe japan illinois law encroached federal regulation international commerce appeal court rejected cavels argument september saying company failed stopping operation risked affecting global horse meat market monday supreme court declined hear case appeal cavels appeal received backing belgium told court american horse meat considered consumer belgium eu highest quality distinguishable horse meat produced nation sapaafp np'"
      ]
     },
     "execution_count": 257,
     "metadata": {},
     "output_type": "execute_result"
    }
   ],
   "source": [
    "clean_text = []\n",
    "for text in test.text:\n",
    "    text = ' '.join(preProcessing(text))\n",
    "    clean_text.append(text)\n",
    "    \n",
    "clean_text[0]"
   ]
  },
  {
   "cell_type": "code",
   "execution_count": 258,
   "metadata": {},
   "outputs": [],
   "source": [
    "y_pred = grid_search.predict(clean_text)\n",
    "test['label'] = y_pred"
   ]
  },
  {
   "cell_type": "code",
   "execution_count": 259,
   "metadata": {},
   "outputs": [],
   "source": [
    "test.to_csv('bugra_sabinet_results.csv')"
   ]
  },
  {
   "cell_type": "code",
   "execution_count": 260,
   "metadata": {},
   "outputs": [],
   "source": [
    "test = pd.read_feather('Feathers/processed_test_data.feather')"
   ]
  },
  {
   "cell_type": "code",
   "execution_count": 261,
   "metadata": {},
   "outputs": [
    {
     "name": "stdout",
     "output_type": "stream",
     "text": [
      "              precision    recall  f1-score   support\n",
      "\n",
      "           0       0.95      0.95      0.95       153\n",
      "           1       0.86      0.86      0.86        50\n",
      "\n",
      "    accuracy                           0.93       203\n",
      "   macro avg       0.91      0.91      0.91       203\n",
      "weighted avg       0.93      0.93      0.93       203\n",
      "\n"
     ]
    },
    {
     "data": {
      "image/png": "[encoded data removed]",
      "text/plain": [
       "<Figure size 518.4x288 with 2 Axes>"
      ]
     },
     "metadata": {
      "needs_background": "light"
     },
     "output_type": "display_data"
    }
   ],
   "source": [
    "y_pred = grid_search.predict(test.text)\n",
    "print(classification_report(test.label, y_pred))\n",
    "conf_matrix = confusion_matrix(test.label, y_pred)\n",
    "plt.figure(figsize=(7.2,4))\n",
    "sns.heatmap(conf_matrix, \n",
    "            annot=True,\n",
    "            fmt='g',\n",
    "            xticklabels=[0, 1], \n",
    "            yticklabels=[0, 1],\n",
    "            cmap=\"Reds\",)\n",
    "plt.ylabel('Actual')\n",
    "plt.xlabel('Predicted')\n",
    "plt.title('f1 macro = %f\\nroc auc = %f' %(f1_score(test.label, y_pred, average='macro'), roc_auc_score(test.label, y_pred)))\n",
    "plt.show()"
   ]
  },
  {
   "cell_type": "code",
   "execution_count": null,
   "metadata": {},
   "outputs": [],
   "source": []
  }
 ],
 "metadata": {
  "kernelspec": {
   "display_name": "Python 3",
   "language": "python",
   "name": "python3"
  },
  "language_info": {
   "codemirror_mode": {
    "name": "ipython",
    "version": 3
   },
   "file_extension": ".py",
   "mimetype": "text/x-python",
   "name": "python",
   "nbconvert_exporter": "python",
   "pygments_lexer": "ipython3",
   "version": "3.8.2"
  }
 },
 "nbformat": 4,
 "nbformat_minor": 4
}
