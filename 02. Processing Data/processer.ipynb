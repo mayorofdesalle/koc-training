{
 "cells": [
  {
   "cell_type": "code",
   "execution_count": 1,
   "metadata": {},
   "outputs": [],
   "source": [
    "def preProcessing(text):\n",
    "# function to preprocess text\n",
    "    import re\n",
    "    import string\n",
    "\n",
    "    # convert text to lowercase\n",
    "    out_text = text.lower()\n",
    "    \n",
    "    # remove numbers\n",
    "    out_text = re.sub(r'\\d+', '', out_text)\n",
    "    \n",
    "    # remove punctuation\n",
    "    out_text =  out_text.translate(str.maketrans(\"\",\"\", string.punctuation))\n",
    "    \n",
    "    # remove whitespaces\n",
    "    out_text = out_text.strip()\n",
    "    \n",
    "    # remove stopwords\n",
    "    from nltk.corpus import stopwords\n",
    "    from nltk.tokenize import word_tokenize\n",
    "    stop_words = set(stopwords.words('english'))\n",
    "    tokens = word_tokenize(out_text)\n",
    "    out_text = [i for i in tokens if not i in stop_words]\n",
    "    \n",
    "    # lemmatization\n",
    "    from nltk.stem import WordNetLemmatizer\n",
    "    lemmatizer = WordNetLemmatizer()\n",
    "    result = []\n",
    "    for word in out_text:\n",
    "        result.append(lemmatizer.lemmatize(word))\n",
    "        \n",
    "    return result"
   ]
  },
  {
   "cell_type": "code",
   "execution_count": 2,
   "metadata": {},
   "outputs": [
    {
     "data": {
      "text/html": [
       "<div>\n",
       "<style scoped>\n",
       "    .dataframe tbody tr th:only-of-type {\n",
       "        vertical-align: middle;\n",
       "    }\n",
       "\n",
       "    .dataframe tbody tr th {\n",
       "        vertical-align: top;\n",
       "    }\n",
       "\n",
       "    .dataframe thead th {\n",
       "        text-align: right;\n",
       "    }\n",
       "</style>\n",
       "<table border=\"1\" class=\"dataframe\">\n",
       "  <thead>\n",
       "    <tr style=\"text-align: right;\">\n",
       "      <th></th>\n",
       "      <th>url</th>\n",
       "      <th>title</th>\n",
       "      <th>text</th>\n",
       "      <th>label</th>\n",
       "    </tr>\n",
       "  </thead>\n",
       "  <tbody>\n",
       "    <tr>\n",
       "      <th>0</th>\n",
       "      <td>http://www.thehindu.com/todays-paper/tp-nation...</td>\n",
       "      <td>Readers mail</td>\n",
       "      <td>SC ruling on alimony\\n\\nThe Supreme Court has ...</td>\n",
       "      <td>0</td>\n",
       "    </tr>\n",
       "    <tr>\n",
       "      <th>1</th>\n",
       "      <td>http://www.thehindu.com/todays-paper/tp-intern...</td>\n",
       "      <td>Niqaab is ‘the elephant in the courtroom’, say...</td>\n",
       "      <td>A person may not give evidence with the face c...</td>\n",
       "      <td>0</td>\n",
       "    </tr>\n",
       "    <tr>\n",
       "      <th>2</th>\n",
       "      <td>http://www.thehindu.com/todays-paper/tp-nation...</td>\n",
       "      <td>Grandparents honoured</td>\n",
       "      <td>Staff and students of Global Public School, Ko...</td>\n",
       "      <td>0</td>\n",
       "    </tr>\n",
       "    <tr>\n",
       "      <th>3</th>\n",
       "      <td>http://www.thehindu.com/todays-paper/tp-featur...</td>\n",
       "      <td>the guardian quick crossword-11335</td>\n",
       "      <td>Not convinced? Know why you should pay for news.</td>\n",
       "      <td>0</td>\n",
       "    </tr>\n",
       "    <tr>\n",
       "      <th>4</th>\n",
       "      <td>http://www.thehindu.com/todays-paper/fishermen...</td>\n",
       "      <td>Fishermen call off strike</td>\n",
       "      <td>The country boat fishermen in Pamban, who had ...</td>\n",
       "      <td>1</td>\n",
       "    </tr>\n",
       "  </tbody>\n",
       "</table>\n",
       "</div>"
      ],
      "text/plain": [
       "                                                 url  \\\n",
       "0  http://www.thehindu.com/todays-paper/tp-nation...   \n",
       "1  http://www.thehindu.com/todays-paper/tp-intern...   \n",
       "2  http://www.thehindu.com/todays-paper/tp-nation...   \n",
       "3  http://www.thehindu.com/todays-paper/tp-featur...   \n",
       "4  http://www.thehindu.com/todays-paper/fishermen...   \n",
       "\n",
       "                                               title  \\\n",
       "0                                       Readers mail   \n",
       "1  Niqaab is ‘the elephant in the courtroom’, say...   \n",
       "2                              Grandparents honoured   \n",
       "3                 the guardian quick crossword-11335   \n",
       "4                          Fishermen call off strike   \n",
       "\n",
       "                                                text  label  \n",
       "0  SC ruling on alimony\\n\\nThe Supreme Court has ...      0  \n",
       "1  A person may not give evidence with the face c...      0  \n",
       "2  Staff and students of Global Public School, Ko...      0  \n",
       "3   Not convinced? Know why you should pay for news.      0  \n",
       "4  The country boat fishermen in Pamban, who had ...      1  "
      ]
     },
     "execution_count": 2,
     "metadata": {},
     "output_type": "execute_result"
    }
   ],
   "source": [
    "import pandas as pd\n",
    "data = pd.read_feather('Feathers/scraped_data.feather')\n",
    "data.head()"
   ]
  },
  {
   "cell_type": "code",
   "execution_count": 7,
   "metadata": {},
   "outputs": [
    {
     "data": {
      "text/plain": [
       "'Readers mail SC ruling on alimony\\n\\nThe Supreme Court has extended the definition of wife in Section 123 of Criminal Procedure Code by holding that if a person lies to a woman that he is single and marries her, she is eligible for payment of maintenance from him under the Section. Possibly there cannot be a better relief to the wrecked lives of such women.\\n\\nHowever, there are women who are still outside its ambit and not eligible for maintenance, the women who have been cheated by such men and who are unwed mothers. I hope the day is not far away when the court will rule that the cheated unwed mothers too are eligible for maintenance.\\n\\nS. Rama Chandra Rao\\n\\nVisakhapatnam\\n\\nFarmers’ woes\\n\\nCyclone Phailin and the torrential rains that followed have devastated standing crops on thousands of hectares in Srikakulam district.\\n\\nThe plight of the farmers is heart-rending.\\n\\nIt is unfortunate that no political leader has expressed empathised with affected farmers.\\n\\nThe Congress-led UPA Government at the Centre has shown its callousness in pushing forward its agenda to divide the State while the common man is crying for relief from the natural calamity and some compensation for the colossal loss to the crops.\\n\\nA.V.L. Bhujanga Rao\\n\\nVisakhapatnam\\n\\nEpidemic threat\\n\\nThe action of GVMC Commissioner M.V. Satyanarayana in taking steps to prevent outbreak of contagious diseases after the rains go away is laudable. Contamination of water, breeding of mosquitoes and quick non-removal of trash are the main contributors to causing epidemics and they should be addressed first. Politicians must allow the uninterrupted attention of the officials for relief work.\\n\\nGanti Mahapatruni Rama Rao\\n\\nVisakhapatnam\\n\\nAddress problems in Rythu Bazaar\\n\\nAfter rains, the conditions inside and outside the Rythu Bazaar in Seethammadhara become unbearable.\\n\\nIn the absence of good drainage system, water stagnates in front of the stalls and it is difficult to stand there to buy vegetables.\\n\\nFurther, water stagnates at all the three entrances to the Rythu Bazaar that makes it difficult to enter the market.\\n\\nThe garbage bin outside the market emanating foul smell and after a rain it gets worse. The authorities need to take immediate steps to address these problems.\\n\\nP. Kurmeswara Rao\\n\\nVisakhapatnam'"
      ]
     },
     "execution_count": 7,
     "metadata": {},
     "output_type": "execute_result"
    }
   ],
   "source": [
    "data.title[0] + \" \" + data.text[0]"
   ]
  },
  {
   "cell_type": "code",
   "execution_count": 8,
   "metadata": {},
   "outputs": [
    {
     "data": {
      "text/plain": [
       "'reader mail sc ruling alimony supreme court extended definition wife section criminal procedure code holding person lie woman single marries eligible payment maintenance section possibly better relief wrecked life woman however woman still outside ambit eligible maintenance woman cheated men unwed mother hope day far away court rule cheated unwed mother eligible maintenance rama chandra rao visakhapatnam farmer ’ woe cyclone phailin torrential rain followed devastated standing crop thousand hectare srikakulam district plight farmer heartrending unfortunate political leader expressed empathised affected farmer congressled upa government centre shown callousness pushing forward agenda divide state common man cry relief natural calamity compensation colossal loss crop avl bhujanga rao visakhapatnam epidemic threat action gvmc commissioner mv satyanarayana taking step prevent outbreak contagious disease rain go away laudable contamination water breeding mosquito quick nonremoval trash main contributor causing epidemic addressed first politician must allow uninterrupted attention official relief work ganti mahapatruni rama rao visakhapatnam address problem rythu bazaar rain condition inside outside rythu bazaar seethammadhara become unbearable absence good drainage system water stagnates front stall difficult stand buy vegetable water stagnates three entrance rythu bazaar make difficult enter market garbage bin outside market emanating foul smell rain get worse authority need take immediate step address problem p kurmeswara rao visakhapatnam'"
      ]
     },
     "execution_count": 8,
     "metadata": {},
     "output_type": "execute_result"
    }
   ],
   "source": [
    "# Preprocess articles\n",
    "clean_text = []\n",
    "for article in range(len(data)):\n",
    "    text = data.title[article] + \" \" + data.text[article]\n",
    "    text = ' '.join(preProcessing(text))\n",
    "    clean_text.append(text)\n",
    "\n",
    "processed_data = {'text' : clean_text, 'label' : data.label}\n",
    "processed_data = pd.DataFrame(processed_data)\n",
    "processed_data.text[0]"
   ]
  },
  {
   "cell_type": "code",
   "execution_count": 9,
   "metadata": {},
   "outputs": [],
   "source": [
    "processed_data.to_feather('Feathers/processed_data.feather')"
   ]
  }
 ],
 "metadata": {
  "kernelspec": {
   "display_name": "Python 3",
   "language": "python",
   "name": "python3"
  },
  "language_info": {
   "codemirror_mode": {
    "name": "ipython",
    "version": 3
   },
   "file_extension": ".py",
   "mimetype": "text/x-python",
   "name": "python",
   "nbconvert_exporter": "python",
   "pygments_lexer": "ipython3",
   "version": "3.8.2"
  }
 },
 "nbformat": 4,
 "nbformat_minor": 4
}
