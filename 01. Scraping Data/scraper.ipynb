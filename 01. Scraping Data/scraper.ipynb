{
 "cells": [
  {
   "cell_type": "code",
   "execution_count": 1,
   "metadata": {},
   "outputs": [],
   "source": [
    "import pandas as pd\n",
    "data = pd.read_csv('intern_train.csv')\n",
    "labels = data.label\n",
    "texts = []\n",
    "titles = []\n",
    "\n",
    "for url in data.url:\n",
    "    # get title and text from url\n",
    "    from newspaper import Article\n",
    "    article = Article(url)\n",
    "    article.download()\n",
    "    article.parse()\n",
    "    texts.append(article.text)\n",
    "    titles.append(article.title)\n",
    "    \n",
    "scraped_data = {'url' : data.url, 'title' : titles, 'text' : texts, 'label' : data.label}\n",
    "scraped_data = pd.DataFrame(scraped_data)\n",
    "scraped_data.to_feather('Feathers/scraped_data.feather')"
   ]
  }
 ],
 "metadata": {
  "kernelspec": {
   "display_name": "Python 3",
   "language": "python",
   "name": "python3"
  },
  "language_info": {
   "codemirror_mode": {
    "name": "ipython",
    "version": 3
   },
   "file_extension": ".py",
   "mimetype": "text/x-python",
   "name": "python",
   "nbconvert_exporter": "python",
   "pygments_lexer": "ipython3",
   "version": "3.8.2"
  }
 },
 "nbformat": 4,
 "nbformat_minor": 4
}
