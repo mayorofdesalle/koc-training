{
 "cells": [
  {
   "cell_type": "code",
   "execution_count": 5,
   "metadata": {},
   "outputs": [],
   "source": [
    "import pandas as pd\n",
    "from newspaper import Article\n",
    "train = pd.read_csv('intern_train.csv')\n",
    "labels = train.label\n",
    "texts = []\n",
    "titles = []\n",
    "\n",
    "for url in train.url:\n",
    "    # get title and text from url\n",
    "    article = Article(url)\n",
    "    article.download()\n",
    "    article.parse()\n",
    "    texts.append(article.text)\n",
    "    titles.append(article.title)\n",
    "    \n",
    "scraped_train = {'url' : train.url, 'title' : titles, 'text' : texts, 'label' : train.label}\n",
    "scraped_train = pd.DataFrame(scraped_train)\n",
    "scraped_train.to_feather('Feathers/scraped_train.feather')"
   ]
  },
  {
   "cell_type": "code",
   "execution_count": 6,
   "metadata": {},
   "outputs": [],
   "source": [
    "test = pd.read_csv('intern_test.csv')\n",
    "labels = test.label\n",
    "texts = []\n",
    "titles = []\n",
    "\n",
    "for url in test.url:\n",
    "    # get title and text from url\n",
    "    article = Article(url)\n",
    "    article.download()\n",
    "    article.parse()\n",
    "    texts.append(article.text)\n",
    "    titles.append(article.title)\n",
    "    \n",
    "scraped_test = {'url' : test.url, 'title' : titles, 'text' : texts, 'label' : test.label}\n",
    "scraped_test = pd.DataFrame(scraped_test)\n",
    "scraped_test.to_feather('Feathers/scraped_test.feather')"
   ]
  }
 ],
 "metadata": {
  "kernelspec": {
   "display_name": "Python 3",
   "language": "python",
   "name": "python3"
  },
  "language_info": {
   "codemirror_mode": {
    "name": "ipython",
    "version": 3
   },
   "file_extension": ".py",
   "mimetype": "text/x-python",
   "name": "python",
   "nbconvert_exporter": "python",
   "pygments_lexer": "ipython3",
   "version": "3.8.2"
  }
 },
 "nbformat": 4,
 "nbformat_minor": 4
}
